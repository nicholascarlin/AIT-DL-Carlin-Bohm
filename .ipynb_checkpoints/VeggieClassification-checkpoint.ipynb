{
 "cells": [
  {
   "cell_type": "code",
   "execution_count": 8,
   "id": "58095d99",
   "metadata": {},
   "outputs": [],
   "source": [
    "from  matplotlib import pyplot as plt\n",
    "import matplotlib.image as mpimg\n",
    "import os, shutil\n",
    "from keras.preprocessing import image"
   ]
  },
  {
   "cell_type": "code",
   "execution_count": 28,
   "id": "f10293ae",
   "metadata": {},
   "outputs": [
    {
     "name": "stdout",
     "output_type": "stream",
     "text": [
      "{'Capsicum': [], 'Radish': [], 'Pumpkin': [], 'Cauliflower': [], 'Potato': [], 'Bean': [], 'Cucumber': [], 'Brinjal': [], 'Cabbage': [], 'Broccoli': [], 'Bitter Gourd': [], 'Papaya': [], 'Bottle Gourd': [], 'Tomato': [], 'Carrot': [], 'Apple': [], 'Turnip': [], 'Chilli Pepper': [], 'Raddish': [], 'Bell Pepper': [], 'Pear': [], 'Sweetpotato': [], 'Pomegranate': [], 'Peas': [], '.Ds_Store': [], 'Spinach': [], 'Lettuce': [], 'Kiwi': [], 'Lemon': [], 'Onion': [], 'Jalepeno': [], 'Sweetcorn': [], 'Paprika': [], 'Watermelon': [], 'Mango': [], 'Grapes': [], 'Beetroot': [], 'Eggplant': [], 'Corn': [], 'Soy Beans': [], 'Banana': [], 'Ginger': [], 'Garlic': [], 'Pineapple': [], 'Orange': []}\n"
     ]
    }
   ],
   "source": [
    "# Let's plot a few images\n",
    "train_path_1 = \"./data/train\"\n",
    "validation_path_1 = \"./data/validation\"\n",
    "test_path_1 = \"./data/test\"\n",
    "\n",
    "train_path_2 = \"./data2/train\"\n",
    "validation_path_2 = \"./data2/validation\"\n",
    "test_path_2 = \"./data2/test\"\n",
    "\n",
    "vegetable_dict = {}\n",
    "ds1_cats = os.listdir(train_path_1)\n",
    "ds2_cats = os.listdir(train_path_2)\n",
    "for cat in ds1_cats:\n",
    "    cat = cat.replace('_', ' ')\n",
    "    vegetable_dict[cat] = []\n",
    "    \n",
    "for cat in ds2_cats:\n",
    "    if cat.title() not in ds1_cats:\n",
    "        vegetable_dict[cat.title()] = []\n",
    "    \n",
    "print(vegetable_dict)"
   ]
  },
  {
   "cell_type": "code",
   "execution_count": 19,
   "id": "5ef759d7",
   "metadata": {},
   "outputs": [
    {
     "ename": "SyntaxError",
     "evalue": "invalid syntax (<ipython-input-19-281ba42f9784>, line 1)",
     "output_type": "error",
     "traceback": [
      "\u001b[0;36m  File \u001b[0;32m\"<ipython-input-19-281ba42f9784>\"\u001b[0;36m, line \u001b[0;32m1\u001b[0m\n\u001b[0;31m    def import_ds_1:\u001b[0m\n\u001b[0m                   ^\u001b[0m\n\u001b[0;31mSyntaxError\u001b[0m\u001b[0;31m:\u001b[0m invalid syntax\n"
     ]
    }
   ],
   "source": [
    "def import_ds_1:\n",
    "    "
   ]
  },
  {
   "cell_type": "code",
   "execution_count": null,
   "id": "da10293d",
   "metadata": {},
   "outputs": [],
   "source": []
  }
 ],
 "metadata": {
  "kernelspec": {
   "display_name": "Python 3",
   "language": "python",
   "name": "python3"
  },
  "language_info": {
   "codemirror_mode": {
    "name": "ipython",
    "version": 3
   },
   "file_extension": ".py",
   "mimetype": "text/x-python",
   "name": "python",
   "nbconvert_exporter": "python",
   "pygments_lexer": "ipython3",
   "version": "3.8.8"
  }
 },
 "nbformat": 4,
 "nbformat_minor": 5
}
